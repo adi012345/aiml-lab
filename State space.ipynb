{
 "cells": [
  {
   "cell_type": "markdown",
   "id": "d25eb9b5-c79b-427a-a081-5178d2fdfdf3",
   "metadata": {},
   "source": [
    "# Task: Implement a state-space search algorithm for a given problem scenario in the database"
   ]
  },
  {
   "cell_type": "code",
   "execution_count": 1,
   "id": "137d3591-cff2-4274-942a-c00cca601e20",
   "metadata": {},
   "outputs": [
    {
     "name": "stdout",
     "output_type": "stream",
     "text": [
      "Path found: [(0, 0), (0, 1), (0, 2), (1, 2), (2, 2)]\n"
     ]
    }
   ],
   "source": [
    "def is_valid_move(x, y, grid): \n",
    "    return 0 <= x < len(grid) and 0 <= y < len(grid[0]) and grid [x][y] == 0\n",
    "\n",
    "def dfs(grid, x, y, path):\n",
    "    #Goal condition\n",
    "    if (x, y) == (2, 2):\n",
    "        return path\n",
    "\n",
    "    #Possible moves (down, up, right, left) \n",
    "    moves = [(1, 0), (-1, 0), (0, 1), (0, -1)]\n",
    "\n",
    "    for dx, dy in moves:\n",
    "        new_x, new_y=x+dx, y + dy \n",
    "        if is_valid_move(new_x, new_y, grid):\n",
    "            grid[new_x][new_y] = 1 # Mark as visited\n",
    "            result = dfs(grid, new_x, new_y, path + [(new_x, new_y)])\n",
    "            if result: # If a path is found\n",
    "                return result\n",
    "            grid[new_x][new_y] =0 # Unmark on backtrack\n",
    "\n",
    "    return None # No path found\n",
    "\n",
    "# 0 = open path, 1 = wall\n",
    "grid = [\n",
    "    [0, 0, 0],\n",
    "    [1, 1, 0],\n",
    "    [0, 0, 0]\n",
    "]\n",
    "\n",
    "# Starting DFS from (0,0) \n",
    "grid[0][0] = 1 # Mark starting point as visited \n",
    "path = dfs(grid, 0, 0, [(0, 0)])\n",
    "\n",
    "if path:\n",
    "    print(\"Path found:\", path)\n",
    "\n",
    "else:\n",
    "    print(\"No path found.\")"
   ]
  },
  {
   "cell_type": "code",
   "execution_count": null,
   "id": "351959f3-b2f6-4b42-9574-40557d9308f6",
   "metadata": {},
   "outputs": [],
   "source": []
  }
 ],
 "metadata": {
  "kernelspec": {
   "display_name": "Python 3 (ipykernel)",
   "language": "python",
   "name": "python3"
  },
  "language_info": {
   "codemirror_mode": {
    "name": "ipython",
    "version": 3
   },
   "file_extension": ".py",
   "mimetype": "text/x-python",
   "name": "python",
   "nbconvert_exporter": "python",
   "pygments_lexer": "ipython3",
   "version": "3.12.4"
  }
 },
 "nbformat": 4,
 "nbformat_minor": 5
}
