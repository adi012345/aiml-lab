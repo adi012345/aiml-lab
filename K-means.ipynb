{
 "cells": [
  {
   "cell_type": "markdown",
   "id": "29a0286a-b09a-4554-8cfb-04c7012014e4",
   "metadata": {},
   "source": [
    "# Task: Apply K-Means to cluster the given dataset and visualize the results"
   ]
  },
  {
   "cell_type": "code",
   "execution_count": 1,
   "id": "82d8ba09-62c1-458d-940f-c49a5e934767",
   "metadata": {},
   "outputs": [],
   "source": [
    "#Import necssary Libraries\n",
    "import numpy as np\n",
    "import pandas as pd\n",
    "import matplotlib.pyplot as plt\n",
    "from sklearn.cluster import KMeans"
   ]
  },
  {
   "cell_type": "code",
   "execution_count": 2,
   "id": "483a2f6c-dc0c-409c-9139-bdc33e222573",
   "metadata": {},
   "outputs": [
    {
     "data": {
      "text/html": [
       "<div>\n",
       "<style scoped>\n",
       "    .dataframe tbody tr th:only-of-type {\n",
       "        vertical-align: middle;\n",
       "    }\n",
       "\n",
       "    .dataframe tbody tr th {\n",
       "        vertical-align: top;\n",
       "    }\n",
       "\n",
       "    .dataframe thead th {\n",
       "        text-align: right;\n",
       "    }\n",
       "</style>\n",
       "<table border=\"1\" class=\"dataframe\">\n",
       "  <thead>\n",
       "    <tr style=\"text-align: right;\">\n",
       "      <th></th>\n",
       "      <th>Fruit</th>\n",
       "      <th>Weight (grams)</th>\n",
       "      <th>Sweetness Level (1-10)</th>\n",
       "      <th>Category</th>\n",
       "    </tr>\n",
       "  </thead>\n",
       "  <tbody>\n",
       "    <tr>\n",
       "      <th>0</th>\n",
       "      <td>Mango</td>\n",
       "      <td>160</td>\n",
       "      <td>7</td>\n",
       "      <td>Mango</td>\n",
       "    </tr>\n",
       "    <tr>\n",
       "      <th>1</th>\n",
       "      <td>Mango</td>\n",
       "      <td>175</td>\n",
       "      <td>9</td>\n",
       "      <td>Mango</td>\n",
       "    </tr>\n",
       "    <tr>\n",
       "      <th>2</th>\n",
       "      <td>Pear</td>\n",
       "      <td>140</td>\n",
       "      <td>6</td>\n",
       "      <td>Pear</td>\n",
       "    </tr>\n",
       "    <tr>\n",
       "      <th>3</th>\n",
       "      <td>Pear</td>\n",
       "      <td>115</td>\n",
       "      <td>4</td>\n",
       "      <td>Pear</td>\n",
       "    </tr>\n",
       "    <tr>\n",
       "      <th>4</th>\n",
       "      <td>Pineapple</td>\n",
       "      <td>210</td>\n",
       "      <td>8</td>\n",
       "      <td>Pineapple</td>\n",
       "    </tr>\n",
       "    <tr>\n",
       "      <th>5</th>\n",
       "      <td>Pineapple</td>\n",
       "      <td>195</td>\n",
       "      <td>7</td>\n",
       "      <td>Pineapple</td>\n",
       "    </tr>\n",
       "    <tr>\n",
       "      <th>6</th>\n",
       "      <td>Grape</td>\n",
       "      <td>52</td>\n",
       "      <td>5</td>\n",
       "      <td>Grape</td>\n",
       "    </tr>\n",
       "    <tr>\n",
       "      <th>7</th>\n",
       "      <td>Grape</td>\n",
       "      <td>48</td>\n",
       "      <td>3</td>\n",
       "      <td>Grape</td>\n",
       "    </tr>\n",
       "    <tr>\n",
       "      <th>8</th>\n",
       "      <td>Unknown Fruit</td>\n",
       "      <td>155</td>\n",
       "      <td>6</td>\n",
       "      <td>?</td>\n",
       "    </tr>\n",
       "  </tbody>\n",
       "</table>\n",
       "</div>"
      ],
      "text/plain": [
       "           Fruit  Weight (grams)  Sweetness Level (1-10)   Category\n",
       "0          Mango             160                       7      Mango\n",
       "1          Mango             175                       9      Mango\n",
       "2           Pear             140                       6       Pear\n",
       "3           Pear             115                       4       Pear\n",
       "4      Pineapple             210                       8  Pineapple\n",
       "5      Pineapple             195                       7  Pineapple\n",
       "6          Grape              52                       5      Grape\n",
       "7          Grape              48                       3      Grape\n",
       "8  Unknown Fruit             155                       6          ?"
      ]
     },
     "execution_count": 2,
     "metadata": {},
     "output_type": "execute_result"
    }
   ],
   "source": [
    "#1. Fruits weight and sweetness data\n",
    "df = pd.read_csv(\"fruit_data.csv\")\n",
    "df.head(10)"
   ]
  },
  {
   "cell_type": "code",
   "execution_count": 3,
   "id": "e5c7199a-26c2-4631-b7bd-0c505c752267",
   "metadata": {},
   "outputs": [
    {
     "data": {
      "text/plain": [
       "Index(['Fruit', 'Weight (grams)', 'Sweetness Level (1-10)', 'Category'], dtype='object')"
      ]
     },
     "execution_count": 3,
     "metadata": {},
     "output_type": "execute_result"
    }
   ],
   "source": [
    "df.columns"
   ]
  },
  {
   "cell_type": "code",
   "execution_count": 4,
   "id": "ada74c1f-13d3-4c7e-b31f-ebff6ea0856f",
   "metadata": {},
   "outputs": [
    {
     "data": {
      "text/plain": [
       "Fruit                     0\n",
       "Weight (grams)            0\n",
       "Sweetness Level (1-10)    0\n",
       "Category                  0\n",
       "dtype: int64"
      ]
     },
     "execution_count": 4,
     "metadata": {},
     "output_type": "execute_result"
    }
   ],
   "source": [
    "df.isnull().sum()"
   ]
  },
  {
   "cell_type": "code",
   "execution_count": 5,
   "id": "77dff666-d0cc-42e2-bf86-9393a68db76f",
   "metadata": {},
   "outputs": [
    {
     "name": "stdout",
     "output_type": "stream",
     "text": [
      "Fruit Data:\n",
      "[[160   7]\n",
      " [175   9]\n",
      " [140   6]\n",
      " [115   4]\n",
      " [210   8]\n",
      " [195   7]\n",
      " [ 52   5]\n",
      " [ 48   3]\n",
      " [155   6]]\n"
     ]
    }
   ],
   "source": [
    "#Creating a Fruits variable with only two columns and their values\n",
    "fruits= df[['Weight (grams)', 'Sweetness Level (1-10)']].values\n",
    "print('Fruit Data:')\n",
    "print(fruits)"
   ]
  },
  {
   "cell_type": "code",
   "execution_count": 6,
   "id": "b58c291b-ca56-466e-9b53-862a70ceaaaa",
   "metadata": {},
   "outputs": [
    {
     "data": {
      "image/png": "[encoded data removed]",
      "text/plain": [
       "<Figure size 640x480 with 1 Axes>"
      ]
     },
     "metadata": {},
     "output_type": "display_data"
    }
   ],
   "source": [
    "#2. Create a scatter plot of the fruit data\n",
    "\n",
    "plt.scatter(fruits[:, 0], fruits[:, 1], c='red')\n",
    "plt.title('Fruit Weight and Sweetness')\n",
    "plt.xlabel('Weight (grams)')\n",
    "plt.ylabel('Sweetness (1-10)')\n",
    "plt.show()"
   ]
  },
  {
   "cell_type": "code",
   "execution_count": 7,
   "id": "4ccdcc76-7669-4b6e-9d40-82215314b9f9",
   "metadata": {},
   "outputs": [
    {
     "name": "stderr",
     "output_type": "stream",
     "text": [
      "C:\\Users\\raj38\\anaconda3\\Lib\\site-packages\\sklearn\\cluster\\_kmeans.py:1446: UserWarning: KMeans is known to have a memory leak on Windows with MKL, when there are less chunks than available threads. You can avoid it by setting the environment variable OMP_NUM_THREADS=1.\n",
      "  warnings.warn(\n"
     ]
    },
    {
     "data": {
      "image/png": "[encoded data removed]",
      "text/plain": [
       "<Figure size 640x480 with 1 Axes>"
      ]
     },
     "metadata": {},
     "output_type": "display_data"
    }
   ],
   "source": [
    "# 3.Create theKMeans model with 3 cluster\n",
    "kmeans=KMeans(n_clusters=3)\n",
    "\n",
    "# 4.Fit the model to the fruit data\n",
    "kmeans.fit(fruits)\n",
    "\n",
    "# 5.Get the centroids (center points of the clusters) and labels\n",
    "centroids=kmeans.cluster_centers_\n",
    "labels=kmeans.labels_\n",
    "\n",
    "#6. Visualize the clusters with different colors\n",
    "plt.scatter(fruits[:, 0], fruits[:, 1], c=labels, cmap='rainbow') # Clustered data\n",
    "plt.scatter(centroids[:, 0], centroids[:, 1], s=300, c='green', marker='X') # Centroids\n",
    "plt.title('Fruit Clusters based on Weight and Sweetness')\n",
    "plt.xlabel('Weight (grams)')\n",
    "plt.ylabel('Sweetness (1-10)')\n",
    "plt.show()"
   ]
  },
  {
   "cell_type": "code",
   "execution_count": null,
   "id": "73383a0a-dba1-4002-be5b-e5ead18fe1a6",
   "metadata": {},
   "outputs": [],
   "source": []
  }
 ],
 "metadata": {
  "kernelspec": {
   "display_name": "Python 3 (ipykernel)",
   "language": "python",
   "name": "python3"
  },
  "language_info": {
   "codemirror_mode": {
    "name": "ipython",
    "version": 3
   },
   "file_extension": ".py",
   "mimetype": "text/x-python",
   "name": "python",
   "nbconvert_exporter": "python",
   "pygments_lexer": "ipython3",
   "version": "3.12.4"
  }
 },
 "nbformat": 4,
 "nbformat_minor": 5
}
