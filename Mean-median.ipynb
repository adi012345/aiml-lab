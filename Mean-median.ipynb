{
 "cells": [
  {
   "cell_type": "markdown",
   "id": "c17cd1f0-fb3a-4177-bf40-0de8e8055ca8",
   "metadata": {},
   "source": [
    "# Implement mean, median, mode, standard deviation, and Z-score on the provided dataset."
   ]
  },
  {
   "cell_type": "code",
   "execution_count": 2,
   "id": "d5a0a10d-f971-4c03-9945-b612b6481333",
   "metadata": {},
   "outputs": [
    {
     "name": "stdout",
     "output_type": "stream",
     "text": [
      "   Weight  Color  Diameter Fruit_Type\n",
      "0     150      0       7.5      Mango\n",
      "1     160      0       8.0      Mango\n",
      "2     170      0       7.8      Mango\n",
      "3     180      0       7.7      Mango\n",
      "4     155      0       7.6      Mango\n",
      "5     130      1       6.8  Pineapple\n",
      "6     140      1       7.0  Pineapple\n",
      "7     120      1       6.5  Pineapple\n",
      "Mean: 171.0344827586207, Median: 170.0, Mode: 125, Standard Deviation: 33.444498542490074, \n",
      "Z-scores: \n",
      "0    -0.640069\n",
      "1    -0.335774\n",
      "2    -0.031479\n",
      "3     0.272817\n",
      "4    -0.487922\n",
      "5    -1.248660\n",
      "6    -0.944365\n",
      "7    -1.552956\n",
      "8    -1.400808\n",
      "9    -1.096513\n",
      "10    0.881407\n",
      "11    1.185703\n",
      "12    1.489998\n",
      "13    1.337850\n",
      "14    1.642146\n",
      "15   -0.792217\n",
      "16   -0.487922\n",
      "17   -0.183626\n",
      "18    0.120669\n",
      "19    0.424964\n",
      "20   -1.400808\n",
      "21   -0.944365\n",
      "22   -1.248660\n",
      "23    0.424964\n",
      "24    0.729260\n",
      "25    1.033555\n",
      "26    1.185703\n",
      "27    0.577112\n",
      "28    1.489998\n",
      "Name: Weight, dtype: float64\n"
     ]
    }
   ],
   "source": [
    "import pandas as pd\n",
    "from scipy.stats import mode, zscore\n",
    "\n",
    "# Hypothetical dataset\n",
    "data = pd.read_csv(\"fruit_classification.csv\")\n",
    "print(data.head(8))\n",
    "\n",
    "# Calculations\n",
    "mean = data['Weight'].mean()\n",
    "median = data['Weight'].median()\n",
    "mode_value = data['Weight'].mode()[0]\n",
    "std_dev = data['Weight'].std()\n",
    "z_scores = zscore(data['Weight'])\n",
    "\n",
    "print(f\"Mean: {mean}, Median: {median}, Mode: {mode_value}, Standard Deviation: {std_dev}, \\nZ-scores: \\n{z_scores}\")\n",
    "\n"
   ]
  },
  {
   "cell_type": "code",
   "execution_count": null,
   "id": "5b999a61-1bea-429f-98ca-a072062599e5",
   "metadata": {},
   "outputs": [],
   "source": []
  }
 ],
 "metadata": {
  "kernelspec": {
   "display_name": "Python 3 (ipykernel)",
   "language": "python",
   "name": "python3"
  },
  "language_info": {
   "codemirror_mode": {
    "name": "ipython",
    "version": 3
   },
   "file_extension": ".py",
   "mimetype": "text/x-python",
   "name": "python",
   "nbconvert_exporter": "python",
   "pygments_lexer": "ipython3",
   "version": "3.12.4"
  }
 },
 "nbformat": 4,
 "nbformat_minor": 5
}
