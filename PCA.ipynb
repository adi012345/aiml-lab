{
 "cells": [
  {
   "cell_type": "markdown",
   "id": "21524d2d-a30c-4da1-8cc3-e7bfdd64af4f",
   "metadata": {},
   "source": [
    "# Task: Apply Principal Component Analysis to reduce the dimensionality of the dataset."
   ]
  },
  {
   "cell_type": "code",
   "execution_count": 1,
   "id": "49795134-3982-4204-81f2-c9acbfccffda",
   "metadata": {},
   "outputs": [],
   "source": [
    "# Importing  required packages\n",
    "\n",
    "import pandas as pd\n",
    "from sklearn.preprocessing import StandardScaler\n",
    "import matplotlib.pyplot as plt\n",
    "from sklearn.decomposition import PCA"
   ]
  },
  {
   "cell_type": "code",
   "execution_count": 2,
   "id": "f9d00c85-6723-41de-81f0-3464d8c2ec77",
   "metadata": {},
   "outputs": [
    {
     "data": {
      "text/html": [
       "<div>\n",
       "<style scoped>\n",
       "    .dataframe tbody tr th:only-of-type {\n",
       "        vertical-align: middle;\n",
       "    }\n",
       "\n",
       "    .dataframe tbody tr th {\n",
       "        vertical-align: top;\n",
       "    }\n",
       "\n",
       "    .dataframe thead th {\n",
       "        text-align: right;\n",
       "    }\n",
       "</style>\n",
       "<table border=\"1\" class=\"dataframe\">\n",
       "  <thead>\n",
       "    <tr style=\"text-align: right;\">\n",
       "      <th></th>\n",
       "      <th>Student Name</th>\n",
       "      <th>Computer Science Score</th>\n",
       "      <th>Physical Education Score</th>\n",
       "      <th>Physics Score</th>\n",
       "      <th>Geography Score</th>\n",
       "    </tr>\n",
       "  </thead>\n",
       "  <tbody>\n",
       "    <tr>\n",
       "      <th>0</th>\n",
       "      <td>Liam</td>\n",
       "      <td>88</td>\n",
       "      <td>81</td>\n",
       "      <td>90</td>\n",
       "      <td>76</td>\n",
       "    </tr>\n",
       "    <tr>\n",
       "      <th>1</th>\n",
       "      <td>Noah</td>\n",
       "      <td>92</td>\n",
       "      <td>85</td>\n",
       "      <td>87</td>\n",
       "      <td>74</td>\n",
       "    </tr>\n",
       "    <tr>\n",
       "      <th>2</th>\n",
       "      <td>Emma</td>\n",
       "      <td>84</td>\n",
       "      <td>79</td>\n",
       "      <td>91</td>\n",
       "      <td>68</td>\n",
       "    </tr>\n",
       "    <tr>\n",
       "      <th>3</th>\n",
       "      <td>Olivia</td>\n",
       "      <td>70</td>\n",
       "      <td>72</td>\n",
       "      <td>75</td>\n",
       "      <td>80</td>\n",
       "    </tr>\n",
       "    <tr>\n",
       "      <th>4</th>\n",
       "      <td>Sophia</td>\n",
       "      <td>65</td>\n",
       "      <td>67</td>\n",
       "      <td>69</td>\n",
       "      <td>78</td>\n",
       "    </tr>\n",
       "    <tr>\n",
       "      <th>5</th>\n",
       "      <td>Mason</td>\n",
       "      <td>97</td>\n",
       "      <td>92</td>\n",
       "      <td>95</td>\n",
       "      <td>85</td>\n",
       "    </tr>\n",
       "    <tr>\n",
       "      <th>6</th>\n",
       "      <td>Isabella</td>\n",
       "      <td>82</td>\n",
       "      <td>88</td>\n",
       "      <td>84</td>\n",
       "      <td>79</td>\n",
       "    </tr>\n",
       "    <tr>\n",
       "      <th>7</th>\n",
       "      <td>Mia</td>\n",
       "      <td>89</td>\n",
       "      <td>83</td>\n",
       "      <td>92</td>\n",
       "      <td>77</td>\n",
       "    </tr>\n",
       "    <tr>\n",
       "      <th>8</th>\n",
       "      <td>Ethan</td>\n",
       "      <td>85</td>\n",
       "      <td>87</td>\n",
       "      <td>80</td>\n",
       "      <td>82</td>\n",
       "    </tr>\n",
       "    <tr>\n",
       "      <th>9</th>\n",
       "      <td>Ava</td>\n",
       "      <td>72</td>\n",
       "      <td>68</td>\n",
       "      <td>74</td>\n",
       "      <td>76</td>\n",
       "    </tr>\n",
       "  </tbody>\n",
       "</table>\n",
       "</div>"
      ],
      "text/plain": [
       "  Student Name  Computer Science Score  Physical Education Score  \\\n",
       "0         Liam                      88                        81   \n",
       "1         Noah                      92                        85   \n",
       "2         Emma                      84                        79   \n",
       "3       Olivia                      70                        72   \n",
       "4       Sophia                      65                        67   \n",
       "5        Mason                      97                        92   \n",
       "6     Isabella                      82                        88   \n",
       "7          Mia                      89                        83   \n",
       "8        Ethan                      85                        87   \n",
       "9          Ava                      72                        68   \n",
       "\n",
       "   Physics Score  Geography Score  \n",
       "0             90               76  \n",
       "1             87               74  \n",
       "2             91               68  \n",
       "3             75               80  \n",
       "4             69               78  \n",
       "5             95               85  \n",
       "6             84               79  \n",
       "7             92               77  \n",
       "8             80               82  \n",
       "9             74               76  "
      ]
     },
     "execution_count": 2,
     "metadata": {},
     "output_type": "execute_result"
    }
   ],
   "source": [
    "#New dataset: Employee Job Satisfaction\n",
    "data = pd.read_csv(\"Student_Scores.csv\")\n",
    "\n",
    "#Create DataFrame\n",
    "df = pd.DataFrame(data)\n",
    "df"
   ]
  },
  {
   "cell_type": "code",
   "execution_count": 3,
   "id": "fb507f90-9240-4283-814a-f0164bd4621e",
   "metadata": {},
   "outputs": [
    {
     "name": "stdout",
     "output_type": "stream",
     "text": [
      "Standardized Data:\n",
      " [[ 0.57322195  0.09776474  0.75294024 -0.34188173]\n",
      " [ 0.9826662   0.58658846  0.39439727 -0.79772404]\n",
      " [ 0.1637777  -0.14664712  0.87245457 -2.16525095]\n",
      " [-1.26927717 -1.00208862 -1.03977462  0.56980288]\n",
      " [-1.78108249 -1.61311827 -1.75686057  0.11396058]\n",
      " [ 1.49447151  1.44202996  1.35051187  1.70940865]\n",
      " [-0.04094442  0.95320625  0.0358543   0.34188173]\n",
      " [ 0.67558301  0.3421766   0.99196889 -0.11396058]\n",
      " [ 0.26613876  0.83100032 -0.442203    1.02564519]\n",
      " [-1.06455505 -1.49091234 -1.15928895 -0.34188173]]\n"
     ]
    }
   ],
   "source": [
    "# Standardize the Features and target variable\n",
    "\n",
    "X = df[['Computer Science Score', 'Physical Education Score', 'Physics Score', 'Geography Score']]\n",
    "scaler = StandardScaler()\n",
    "X_scaled = scaler.fit_transform(X)\n",
    "print(\"Standardized Data:\\n\",X_scaled)"
   ]
  },
  {
   "cell_type": "code",
   "execution_count": 4,
   "id": "fcbb31ce-a3e6-4118-8652-e6c895d7f616",
   "metadata": {},
   "outputs": [
    {
     "name": "stdout",
     "output_type": "stream",
     "text": [
      "PCA Transformed Data:\n",
      " [[-0.78451342  0.55378932]\n",
      " [-1.0606231   0.81983105]\n",
      " [-0.29264281  2.31465888]\n",
      " [ 1.85127123 -0.72694177]\n",
      " [ 2.94916966 -0.41952028]\n",
      " [-2.6307753  -1.39366239]\n",
      " [-0.57225186 -0.49568724]\n",
      " [-1.14060886  0.36713341]\n",
      " [-0.48295275 -1.22385053]\n",
      " [ 2.16392721  0.20424956]]\n"
     ]
    }
   ],
   "source": [
    "# Applying PCA\n",
    "\n",
    "pca = PCA(n_components=2)\n",
    "X_pca = pca.fit_transform(X_scaled)\n",
    "print(\"PCA Transformed Data:\\n\", X_pca)"
   ]
  },
  {
   "cell_type": "code",
   "execution_count": 5,
   "id": "14c9897c-d8d5-4386-84b3-4d48157aef9a",
   "metadata": {},
   "outputs": [
    {
     "name": "stdout",
     "output_type": "stream",
     "text": [
      "        PC1       PC2 Student Name\n",
      "0 -0.784513  0.553789         Liam\n",
      "1 -1.060623  0.819831         Noah\n",
      "2 -0.292643  2.314659         Emma\n",
      "3  1.851271 -0.726942       Olivia\n",
      "4  2.949170 -0.419520       Sophia\n",
      "5 -2.630775 -1.393662        Mason\n",
      "6 -0.572252 -0.495687     Isabella\n",
      "7 -1.140609  0.367133          Mia\n",
      "8 -0.482953 -1.223851        Ethan\n",
      "9  2.163927  0.204250          Ava\n"
     ]
    }
   ],
   "source": [
    "# Convert to DataFrame\n",
    "\n",
    "df_pca = pd.DataFrame(data=X_pca, columns=['PC1', 'PC2'])\n",
    "df_pca['Student Name' ] = df['Student Name' ]\n",
    "print(df_pca)"
   ]
  },
  {
   "cell_type": "code",
   "execution_count": 6,
   "id": "74dd0bc1-6e07-4c89-8e0d-2badc0f34fef",
   "metadata": {},
   "outputs": [
    {
     "data": {
      "image/png": "[encoded data removed]",
      "text/plain": [
       "<Figure size 600x500 with 1 Axes>"
      ]
     },
     "metadata": {},
     "output_type": "display_data"
    }
   ],
   "source": [
    "# Visualize the PCA results\n",
    "\n",
    "plt.figure(figsize=(6, 5))\n",
    "plt.scatter(df_pca['PC1'], df_pca['PC2'], color='blue')\n",
    "for i, name in enumerate(df_pca['Student Name']):\n",
    "    plt.annotate(name, (df_pca['PC1'][i], df_pca['PC2'][i]))\n",
    "\n",
    "plt.xlabel('Principal Component 1')\n",
    "plt.ylabel('Principal Component 2')\n",
    "plt.title('PCA on Students Dataset with Names')\n",
    "plt.grid()\n",
    "plt.show()"
   ]
  },
  {
   "cell_type": "code",
   "execution_count": null,
   "id": "5abda61b-bd7d-4a50-bebd-4ca45b6f2247",
   "metadata": {},
   "outputs": [],
   "source": []
  }
 ],
 "metadata": {
  "kernelspec": {
   "display_name": "Python 3 (ipykernel)",
   "language": "python",
   "name": "python3"
  },
  "language_info": {
   "codemirror_mode": {
    "name": "ipython",
    "version": 3
   },
   "file_extension": ".py",
   "mimetype": "text/x-python",
   "name": "python",
   "nbconvert_exporter": "python",
   "pygments_lexer": "ipython3",
   "version": "3.12.4"
  }
 },
 "nbformat": 4,
 "nbformat_minor": 5
}
